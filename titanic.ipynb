{
 "cells": [
  {
   "cell_type": "code",
   "id": "initial_id",
   "metadata": {
    "collapsed": true,
    "ExecuteTime": {
     "end_time": "2025-08-03T15:31:31.399575Z",
     "start_time": "2025-08-03T15:31:31.374364Z"
    }
   },
   "source": [
    "#importing\n",
    "import time\n",
    "from sklearn.preprocessing import StandardScaler\n",
    "from sklearn.linear_model import LogisticRegression\n",
    "from sklearn.model_selection import train_test_split\n",
    "import pandas as pd\n",
    "from sklearn.preprocessing import LabelEncoder\n",
    "from sklearn.metrics import accuracy_score\n",
    "from sklearn.metrics import root_mean_squared_error\n",
    "from sklearn.linear_model import LinearRegression\n",
    "from sklearn.neighbors import KNeighborsRegressor\n",
    "from sklearn.neighbors import KNeighborsClassifier\n"
   ],
   "outputs": [],
   "execution_count": 73
  },
  {
   "metadata": {
    "ExecuteTime": {
     "end_time": "2025-08-03T15:31:34.067863Z",
     "start_time": "2025-08-03T15:31:33.923705Z"
    }
   },
   "cell_type": "code",
   "source": [
    "#data\n",
    "df=pd.read_csv('titanic.csv')\n",
    "print(df.info())\n",
    "df"
   ],
   "id": "a5006efd1c82443",
   "outputs": [
    {
     "name": "stdout",
     "output_type": "stream",
     "text": [
      "<class 'pandas.core.frame.DataFrame'>\n",
      "RangeIndex: 891 entries, 0 to 890\n",
      "Data columns (total 12 columns):\n",
      " #   Column       Non-Null Count  Dtype  \n",
      "---  ------       --------------  -----  \n",
      " 0   PassengerId  891 non-null    int64  \n",
      " 1   Survived     891 non-null    int64  \n",
      " 2   Pclass       891 non-null    int64  \n",
      " 3   Name         891 non-null    object \n",
      " 4   Sex          891 non-null    object \n",
      " 5   Age          714 non-null    float64\n",
      " 6   SibSp        891 non-null    int64  \n",
      " 7   Parch        891 non-null    int64  \n",
      " 8   Ticket       891 non-null    object \n",
      " 9   Fare         891 non-null    float64\n",
      " 10  Cabin        204 non-null    object \n",
      " 11  Embarked     889 non-null    object \n",
      "dtypes: float64(2), int64(5), object(5)\n",
      "memory usage: 83.7+ KB\n",
      "None\n"
     ]
    },
    {
     "data": {
      "text/plain": [
       "     PassengerId  Survived  Pclass  \\\n",
       "0              1         0       3   \n",
       "1              2         1       1   \n",
       "2              3         1       3   \n",
       "3              4         1       1   \n",
       "4              5         0       3   \n",
       "..           ...       ...     ...   \n",
       "886          887         0       2   \n",
       "887          888         1       1   \n",
       "888          889         0       3   \n",
       "889          890         1       1   \n",
       "890          891         0       3   \n",
       "\n",
       "                                                  Name     Sex   Age  SibSp  \\\n",
       "0                              Braund, Mr. Owen Harris    male  22.0      1   \n",
       "1    Cumings, Mrs. John Bradley (Florence Briggs Th...  female  38.0      1   \n",
       "2                               Heikkinen, Miss. Laina  female  26.0      0   \n",
       "3         Futrelle, Mrs. Jacques Heath (Lily May Peel)  female  35.0      1   \n",
       "4                             Allen, Mr. William Henry    male  35.0      0   \n",
       "..                                                 ...     ...   ...    ...   \n",
       "886                              Montvila, Rev. Juozas    male  27.0      0   \n",
       "887                       Graham, Miss. Margaret Edith  female  19.0      0   \n",
       "888           Johnston, Miss. Catherine Helen \"Carrie\"  female   NaN      1   \n",
       "889                              Behr, Mr. Karl Howell    male  26.0      0   \n",
       "890                                Dooley, Mr. Patrick    male  32.0      0   \n",
       "\n",
       "     Parch            Ticket     Fare Cabin Embarked  \n",
       "0        0         A/5 21171   7.2500   NaN        S  \n",
       "1        0          PC 17599  71.2833   C85        C  \n",
       "2        0  STON/O2. 3101282   7.9250   NaN        S  \n",
       "3        0            113803  53.1000  C123        S  \n",
       "4        0            373450   8.0500   NaN        S  \n",
       "..     ...               ...      ...   ...      ...  \n",
       "886      0            211536  13.0000   NaN        S  \n",
       "887      0            112053  30.0000   B42        S  \n",
       "888      2        W./C. 6607  23.4500   NaN        S  \n",
       "889      0            111369  30.0000  C148        C  \n",
       "890      0            370376   7.7500   NaN        Q  \n",
       "\n",
       "[891 rows x 12 columns]"
      ],
      "text/html": [
       "<div>\n",
       "<style scoped>\n",
       "    .dataframe tbody tr th:only-of-type {\n",
       "        vertical-align: middle;\n",
       "    }\n",
       "\n",
       "    .dataframe tbody tr th {\n",
       "        vertical-align: top;\n",
       "    }\n",
       "\n",
       "    .dataframe thead th {\n",
       "        text-align: right;\n",
       "    }\n",
       "</style>\n",
       "<table border=\"1\" class=\"dataframe\">\n",
       "  <thead>\n",
       "    <tr style=\"text-align: right;\">\n",
       "      <th></th>\n",
       "      <th>PassengerId</th>\n",
       "      <th>Survived</th>\n",
       "      <th>Pclass</th>\n",
       "      <th>Name</th>\n",
       "      <th>Sex</th>\n",
       "      <th>Age</th>\n",
       "      <th>SibSp</th>\n",
       "      <th>Parch</th>\n",
       "      <th>Ticket</th>\n",
       "      <th>Fare</th>\n",
       "      <th>Cabin</th>\n",
       "      <th>Embarked</th>\n",
       "    </tr>\n",
       "  </thead>\n",
       "  <tbody>\n",
       "    <tr>\n",
       "      <th>0</th>\n",
       "      <td>1</td>\n",
       "      <td>0</td>\n",
       "      <td>3</td>\n",
       "      <td>Braund, Mr. Owen Harris</td>\n",
       "      <td>male</td>\n",
       "      <td>22.0</td>\n",
       "      <td>1</td>\n",
       "      <td>0</td>\n",
       "      <td>A/5 21171</td>\n",
       "      <td>7.2500</td>\n",
       "      <td>NaN</td>\n",
       "      <td>S</td>\n",
       "    </tr>\n",
       "    <tr>\n",
       "      <th>1</th>\n",
       "      <td>2</td>\n",
       "      <td>1</td>\n",
       "      <td>1</td>\n",
       "      <td>Cumings, Mrs. John Bradley (Florence Briggs Th...</td>\n",
       "      <td>female</td>\n",
       "      <td>38.0</td>\n",
       "      <td>1</td>\n",
       "      <td>0</td>\n",
       "      <td>PC 17599</td>\n",
       "      <td>71.2833</td>\n",
       "      <td>C85</td>\n",
       "      <td>C</td>\n",
       "    </tr>\n",
       "    <tr>\n",
       "      <th>2</th>\n",
       "      <td>3</td>\n",
       "      <td>1</td>\n",
       "      <td>3</td>\n",
       "      <td>Heikkinen, Miss. Laina</td>\n",
       "      <td>female</td>\n",
       "      <td>26.0</td>\n",
       "      <td>0</td>\n",
       "      <td>0</td>\n",
       "      <td>STON/O2. 3101282</td>\n",
       "      <td>7.9250</td>\n",
       "      <td>NaN</td>\n",
       "      <td>S</td>\n",
       "    </tr>\n",
       "    <tr>\n",
       "      <th>3</th>\n",
       "      <td>4</td>\n",
       "      <td>1</td>\n",
       "      <td>1</td>\n",
       "      <td>Futrelle, Mrs. Jacques Heath (Lily May Peel)</td>\n",
       "      <td>female</td>\n",
       "      <td>35.0</td>\n",
       "      <td>1</td>\n",
       "      <td>0</td>\n",
       "      <td>113803</td>\n",
       "      <td>53.1000</td>\n",
       "      <td>C123</td>\n",
       "      <td>S</td>\n",
       "    </tr>\n",
       "    <tr>\n",
       "      <th>4</th>\n",
       "      <td>5</td>\n",
       "      <td>0</td>\n",
       "      <td>3</td>\n",
       "      <td>Allen, Mr. William Henry</td>\n",
       "      <td>male</td>\n",
       "      <td>35.0</td>\n",
       "      <td>0</td>\n",
       "      <td>0</td>\n",
       "      <td>373450</td>\n",
       "      <td>8.0500</td>\n",
       "      <td>NaN</td>\n",
       "      <td>S</td>\n",
       "    </tr>\n",
       "    <tr>\n",
       "      <th>...</th>\n",
       "      <td>...</td>\n",
       "      <td>...</td>\n",
       "      <td>...</td>\n",
       "      <td>...</td>\n",
       "      <td>...</td>\n",
       "      <td>...</td>\n",
       "      <td>...</td>\n",
       "      <td>...</td>\n",
       "      <td>...</td>\n",
       "      <td>...</td>\n",
       "      <td>...</td>\n",
       "      <td>...</td>\n",
       "    </tr>\n",
       "    <tr>\n",
       "      <th>886</th>\n",
       "      <td>887</td>\n",
       "      <td>0</td>\n",
       "      <td>2</td>\n",
       "      <td>Montvila, Rev. Juozas</td>\n",
       "      <td>male</td>\n",
       "      <td>27.0</td>\n",
       "      <td>0</td>\n",
       "      <td>0</td>\n",
       "      <td>211536</td>\n",
       "      <td>13.0000</td>\n",
       "      <td>NaN</td>\n",
       "      <td>S</td>\n",
       "    </tr>\n",
       "    <tr>\n",
       "      <th>887</th>\n",
       "      <td>888</td>\n",
       "      <td>1</td>\n",
       "      <td>1</td>\n",
       "      <td>Graham, Miss. Margaret Edith</td>\n",
       "      <td>female</td>\n",
       "      <td>19.0</td>\n",
       "      <td>0</td>\n",
       "      <td>0</td>\n",
       "      <td>112053</td>\n",
       "      <td>30.0000</td>\n",
       "      <td>B42</td>\n",
       "      <td>S</td>\n",
       "    </tr>\n",
       "    <tr>\n",
       "      <th>888</th>\n",
       "      <td>889</td>\n",
       "      <td>0</td>\n",
       "      <td>3</td>\n",
       "      <td>Johnston, Miss. Catherine Helen \"Carrie\"</td>\n",
       "      <td>female</td>\n",
       "      <td>NaN</td>\n",
       "      <td>1</td>\n",
       "      <td>2</td>\n",
       "      <td>W./C. 6607</td>\n",
       "      <td>23.4500</td>\n",
       "      <td>NaN</td>\n",
       "      <td>S</td>\n",
       "    </tr>\n",
       "    <tr>\n",
       "      <th>889</th>\n",
       "      <td>890</td>\n",
       "      <td>1</td>\n",
       "      <td>1</td>\n",
       "      <td>Behr, Mr. Karl Howell</td>\n",
       "      <td>male</td>\n",
       "      <td>26.0</td>\n",
       "      <td>0</td>\n",
       "      <td>0</td>\n",
       "      <td>111369</td>\n",
       "      <td>30.0000</td>\n",
       "      <td>C148</td>\n",
       "      <td>C</td>\n",
       "    </tr>\n",
       "    <tr>\n",
       "      <th>890</th>\n",
       "      <td>891</td>\n",
       "      <td>0</td>\n",
       "      <td>3</td>\n",
       "      <td>Dooley, Mr. Patrick</td>\n",
       "      <td>male</td>\n",
       "      <td>32.0</td>\n",
       "      <td>0</td>\n",
       "      <td>0</td>\n",
       "      <td>370376</td>\n",
       "      <td>7.7500</td>\n",
       "      <td>NaN</td>\n",
       "      <td>Q</td>\n",
       "    </tr>\n",
       "  </tbody>\n",
       "</table>\n",
       "<p>891 rows × 12 columns</p>\n",
       "</div>"
      ]
     },
     "execution_count": 74,
     "metadata": {},
     "output_type": "execute_result"
    }
   ],
   "execution_count": 74
  },
  {
   "metadata": {
    "ExecuteTime": {
     "end_time": "2025-08-03T15:31:39.817871Z",
     "start_time": "2025-08-03T15:31:39.783731Z"
    }
   },
   "cell_type": "code",
   "source": [
    "#DATA/X/Y\n",
    "x=df.drop(columns=['Survived'])\n",
    "y=df['Survived']"
   ],
   "id": "d2d6c498c51c0038",
   "outputs": [],
   "execution_count": 75
  },
  {
   "metadata": {
    "ExecuteTime": {
     "end_time": "2025-08-03T15:31:41.662504Z",
     "start_time": "2025-08-03T15:31:41.628338Z"
    }
   },
   "cell_type": "code",
   "source": [
    "#DROP missing_data\n",
    "nan_features = x.select_dtypes(include='object').columns.tolist()\n",
    "for col in nan_features:\n",
    "  x[col] = x[col].fillna('missing')"
   ],
   "id": "7fea00040f3253b",
   "outputs": [],
   "execution_count": 76
  },
  {
   "metadata": {
    "ExecuteTime": {
     "end_time": "2025-08-03T15:31:46.664514Z",
     "start_time": "2025-08-03T15:31:46.641509Z"
    }
   },
   "cell_type": "code",
   "source": [
    "#fillna_nan\n",
    "num_features = x.select_dtypes(include=['int64', 'float64']).columns.tolist()\n",
    "for col in num_features:\n",
    "    x[col] = x[col].fillna(x[col].mean())"
   ],
   "id": "bfa4267043123398",
   "outputs": [],
   "execution_count": 77
  },
  {
   "metadata": {
    "ExecuteTime": {
     "end_time": "2025-08-03T15:31:49.351132Z",
     "start_time": "2025-08-03T15:31:49.323539Z"
    }
   },
   "cell_type": "code",
   "source": [
    "#encodig\n",
    "encod_features = x.select_dtypes(include='object').columns.tolist()\n",
    "for col in encod_features:\n",
    "    le = LabelEncoder()\n",
    "    x[col] = le.fit_transform(x[col])"
   ],
   "id": "69e45a28a6ab89dc",
   "outputs": [],
   "execution_count": 78
  },
  {
   "metadata": {
    "ExecuteTime": {
     "end_time": "2025-08-03T15:31:50.910662Z",
     "start_time": "2025-08-03T15:31:50.885380Z"
    }
   },
   "cell_type": "code",
   "source": [
    "#x,y(train_test)\n",
    "X_train,X_test,y_train,y_test= train_test_split(x,y,test_size=0.2)"
   ],
   "id": "7b941bbd7a67952",
   "outputs": [],
   "execution_count": 79
  },
  {
   "metadata": {
    "ExecuteTime": {
     "end_time": "2025-08-03T15:31:54.898105Z",
     "start_time": "2025-08-03T15:31:54.850586Z"
    }
   },
   "cell_type": "code",
   "source": [
    "#scalling\n",
    "scaler=StandardScaler()\n",
    "X_train=scaler.fit_transform(X_train)\n",
    "X_test=scaler.transform(X_test)"
   ],
   "id": "3fab5047af524e1d",
   "outputs": [],
   "execution_count": 80
  },
  {
   "metadata": {
    "ExecuteTime": {
     "end_time": "2025-08-03T15:49:13.817289Z",
     "start_time": "2025-08-03T15:49:13.766007Z"
    }
   },
   "cell_type": "code",
   "source": [
    "#LogisticRegression\n",
    "start = time.time()\n",
    "model=LogisticRegression()\n",
    "model.fit(X_train,y_train)\n",
    "y_pred=model.predict(X_test)\n",
    "end=time.time()\n",
    "acc_logistic=accuracy_score(y_test,y_pred)\n",
    "print('accuracy:',acc_logistic)\n",
    "real_time=end-start\n",
    "print('real_time:',real_time)\n",
    "error_logistic=root_mean_squared_error(y_test,y_pred)\n",
    "print('root_mean_squared_error:',error_logistic)"
   ],
   "id": "fa65c95c80112273",
   "outputs": [
    {
     "name": "stdout",
     "output_type": "stream",
     "text": [
      "accuracy: 0.8268156424581006\n",
      "real_time: 0.015433073043823242\n",
      "root_mean_squared_error: 0.41615424729527806\n"
     ]
    }
   ],
   "execution_count": 99
  },
  {
   "metadata": {
    "ExecuteTime": {
     "end_time": "2025-08-03T15:49:09.297108Z",
     "start_time": "2025-08-03T15:49:09.246827Z"
    }
   },
   "cell_type": "code",
   "source": [
    "#KNeighborsClassifier\n",
    "start = time.time()\n",
    "model=KNeighborsClassifier()\n",
    "model.fit(X_train,y_train)\n",
    "y_pred=model.predict(X_test)\n",
    "end=time.time()\n",
    "acc_KNeighbors_C=accuracy_score(y_test,y_pred)\n",
    "print('accuracy:',acc_KNeighbors_C)\n",
    "real_time=end-start\n",
    "print('real_time:',real_time)\n",
    "error_KNeighbors_C=root_mean_squared_error(y_test,y_pred)\n",
    "print('root_mean_squared_error:',error_KNeighbors_C)"
   ],
   "id": "ad8c3d0a01d511d7",
   "outputs": [
    {
     "name": "stdout",
     "output_type": "stream",
     "text": [
      "accuracy: 0.7877094972067039\n",
      "real_time: 0.03471970558166504\n",
      "root_mean_squared_error: 0.46074993520704494\n"
     ]
    }
   ],
   "execution_count": 98
  },
  {
   "metadata": {
    "ExecuteTime": {
     "end_time": "2025-08-03T15:48:41.716565Z",
     "start_time": "2025-08-03T15:48:41.691140Z"
    }
   },
   "cell_type": "code",
   "source": [
    "#LinearRegression\n",
    "start = time.time()\n",
    "model=LinearRegression()\n",
    "model.fit(X_train,y_train)\n",
    "y_pred=model.predict(X_test)\n",
    "end=time.time()\n",
    "real_time=end-start\n",
    "print('real_time:',real_time)\n",
    "y_pred_class=[round(pred)for pred in y_pred]\n",
    "acc_linear=accuracy_score(y_test,y_pred_class)\n",
    "print('accuracy:',acc_linear)\n",
    "error_linear=root_mean_squared_error(y_test,y_pred)\n",
    "print('root_mean_squared_error:',error_linear)"
   ],
   "id": "e6c75ca5b1a0b331",
   "outputs": [
    {
     "name": "stdout",
     "output_type": "stream",
     "text": [
      "real_time: 0.005457639694213867\n",
      "accuracy: 0.8212290502793296\n",
      "root_mean_squared_error: 0.3851279611899064\n"
     ]
    }
   ],
   "execution_count": 97
  },
  {
   "metadata": {
    "ExecuteTime": {
     "end_time": "2025-08-03T15:48:36.535041Z",
     "start_time": "2025-08-03T15:48:36.501193Z"
    }
   },
   "cell_type": "code",
   "source": [
    "#KNeighborsRegressor\n",
    "start = time.time()\n",
    "model=KNeighborsRegressor()\n",
    "model.fit(X_train,y_train)\n",
    "y_pred=model.predict(X_test)\n",
    "end=time.time()\n",
    "real_time=end-start\n",
    "print('real_time:',real_time)\n",
    "y_pred_class=[round(pred)for pred in y_pred]\n",
    "acc_KNeighbors_R=accuracy_score(y_test,y_pred_class)\n",
    "print('accuracy:',acc_KNeighbors_R)\n",
    "error_KNeighbors_R=root_mean_squared_error(y_test,y_pred)\n",
    "print('root_mean_squared_error:',error_KNeighbors_R)"
   ],
   "id": "d7941a6f60b0fd2b",
   "outputs": [
    {
     "name": "stdout",
     "output_type": "stream",
     "text": [
      "real_time: 0.015185117721557617\n",
      "accuracy: 0.7877094972067039\n",
      "root_mean_squared_error: 0.414270577922019\n"
     ]
    }
   ],
   "execution_count": 96
  },
  {
   "metadata": {
    "ExecuteTime": {
     "end_time": "2025-08-03T16:11:10.740712Z",
     "start_time": "2025-08-03T16:11:10.727850Z"
    }
   },
   "cell_type": "code",
   "source": [
    "#dicts\n",
    "acc_dict = {\"Logistic Regression\": acc_logistic,\n",
    "             \"Linear Regression\": acc_linear,\n",
    "             \"KNN Classifier\": acc_KNeighbors_C,\n",
    "             \"KNN Regressor\": acc_KNeighbors_R}\n",
    "error_dict = { \"Logistic Regression\": error_logistic,\n",
    "              \"Linear Regression\": error_linear,\n",
    "              \"KNN Classifier\": error_KNeighbors_C,\n",
    "              \"KNN Regressor\": error_KNeighbors_R}\n",
    "# best acc,error\n",
    "best_acc_model = max(acc_dict, key=acc_dict.get)\n",
    "best_error_model = min(error_dict, key=error_dict.get)\n",
    "print(\"Best Accuracy:\", best_acc_model, f\"({acc_dict[best_acc_model]:.4f})\")\n",
    "print(\"Lowest Error:\", best_error_model, f\"({error_dict[best_error_model]:.4f})\")"
   ],
   "id": "273dbc130169179f",
   "outputs": [
    {
     "name": "stdout",
     "output_type": "stream",
     "text": [
      "Best Accuracy: Logistic Regression (0.8268)\n",
      "Lowest Error: Linear Regression (0.3851)\n"
     ]
    }
   ],
   "execution_count": 104
  }
 ],
 "metadata": {
  "kernelspec": {
   "display_name": "Python 3",
   "language": "python",
   "name": "python3"
  },
  "language_info": {
   "codemirror_mode": {
    "name": "ipython",
    "version": 2
   },
   "file_extension": ".py",
   "mimetype": "text/x-python",
   "name": "python",
   "nbconvert_exporter": "python",
   "pygments_lexer": "ipython2",
   "version": "2.7.6"
  }
 },
 "nbformat": 4,
 "nbformat_minor": 5
}
